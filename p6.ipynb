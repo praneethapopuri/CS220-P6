{
 "cells": [
  {
   "cell_type": "code",
   "execution_count": 193,
   "id": "0cb8f079",
   "metadata": {
    "deletable": false,
    "editable": false
   },
   "outputs": [],
   "source": [
    "# Initialize Otter\n",
    "import otter\n",
    "grader = otter.Notebook(\"p6.ipynb\")"
   ]
  },
  {
   "cell_type": "code",
   "execution_count": 194,
   "id": "cf8f4503",
   "metadata": {},
   "outputs": [],
   "source": [
    "import p6_test"
   ]
  },
  {
   "cell_type": "markdown",
   "id": "3116a04d",
   "metadata": {},
   "source": [
    "# Project 6: Airbnb"
   ]
  },
  {
   "cell_type": "markdown",
   "id": "fc4a993d",
   "metadata": {},
   "source": [
    "## Learning Objectives:\n",
    "\n",
    "In this project, you will demonstrate how to:\n",
    "\n",
    "* access and utilize data in CSV files,\n",
    "* process real world datasets,\n",
    "* use string methods and sorting function / method to order data.\n",
    "\n",
    "Please go through [lab-p6](https://git.doit.wisc.edu/cdis/cs/courses/cs220/cs220-f22-projects/-/tree/main/lab-p6) before working on this project. The lab introduces some useful techniques related to this project."
   ]
  },
  {
   "cell_type": "markdown",
   "id": "4b7d3514",
   "metadata": {},
   "source": [
    "## Testing your code:\n",
    "\n",
    "Along with this notebook, you must have downloaded the file `p6_test.py`. If you are curious about how we test your code, you can explore this file, and specifically the value of the variable `expected_json`, to understand the expected answers to the questions."
   ]
  },
  {
   "cell_type": "markdown",
   "id": "c8befadb",
   "metadata": {},
   "source": [
    "## Project Description:\n",
    "\n",
    "Data Science can help us understand user behavior on online platform services. This project is about the rooms listed on Airbnb. Since 2008, guests and hosts have used Airbnb to expand on traveling possibilities and present a more unique, personalized way of experiencing the world. `airbnb.csv` has data of nearly 50,000 listings on Airbnb from New York City, NY from the year 2019. This file includes a lot of information about the hosts, geographical availability of the listings, and other necessary metrics to make predictions and draw conclusions. You will be using various string manipulation methods that come with Python as well as creating some of your own functions to solve the problems posed. Happy coding!"
   ]
  },
  {
   "cell_type": "markdown",
   "id": "4f0aee24",
   "metadata": {},
   "source": [
    "## Dataset:\n",
    "\n",
    "A small portion of the dataset `airbnb.csv` you will be working with for this project is reproduced here:"
   ]
  },
  {
   "cell_type": "markdown",
   "id": "54c0f066",
   "metadata": {},
   "source": [
    "room_id|name|host_id|host_name|neighborhood_group|neighborhood|latitude|longitude|room_type|price|minimum_nights|number_of_reviews|last_review|reviews_per_month|calculated_host_listings_count|availability_365\n",
    "------|------|------|------|------|------|------|------|------|------|------|------|------|------|------|------|\n",
    "2539|Clean & quiet apt home by the park|2787|John|Brooklyn|Kensington|40.64749000000001|-73.97237|Private room|149|1|9|2018-10-19|0.21|6|365\n",
    "2595|Skylit Midtown Castle|2845|Jennifer|Manhattan|Midtown|40.75362|-73.98376999999998|Entire home/apt|225|1|45|2019-05-21|0.38|2|355\n",
    "3647|THE VILLAGE OF HARLEM....NEW YORK !|4632|Elisabeth|Manhattan|Harlem|40.80902|-73.9419|Private room|150|3|0|||1|365\n",
    "3831|Cozy Entire Floor of Brownstone|4869|LisaRoxanne|Brooklyn|Clinton Hill|40.68514|-73.95976|Entire home/apt|89|1|270|2019-07-05|4.64|1|194\n",
    "5022|Entire Apt: Spacious Studio/Loft by central park|7192|Laura|Manhattan|East Harlem|40.79851|-73.94399|Entire home/apt|80|10|9|2018-11-19|0.1|1|0\n",
    "5099|Large Cozy 1 BR Apartment In Midtown East|7322|Chris|Manhattan|Murray Hill|40.74767|-73.975|Entire home/apt|200|3|74|2019-06-22|0.59|1|129"
   ]
  },
  {
   "cell_type": "markdown",
   "id": "028bb42a",
   "metadata": {},
   "source": [
    "You can find more details on the dataset in [lab-p6](https://git.doit.wisc.edu/cdis/cs/courses/cs220/cs220-f22-projects/-/tree/main/lab-p6)."
   ]
  },
  {
   "cell_type": "markdown",
   "id": "6e3421eb",
   "metadata": {},
   "source": [
    "## Questions and Functions:\n",
    "\n",
    "Let us start by importing all the modules we will need for this project."
   ]
  },
  {
   "cell_type": "code",
   "execution_count": 195,
   "id": "49d20857",
   "metadata": {
    "tags": []
   },
   "outputs": [],
   "source": [
    "# it is considered a good coding practice to place all import statements at the top of the notebook\n",
    "# please place all your import statements in this cell if you need to import any more modules for this project\n",
    "import csv"
   ]
  },
  {
   "cell_type": "markdown",
   "id": "b7e60768",
   "metadata": {},
   "source": [
    "#### Now, copy and paste the `process_csv` and `cell` functions from your [lab-p6](https://git.doit.wisc.edu/cdis/cs/courses/cs220/cs220-f22-projects/-/tree/main/lab-p6) notebook to the cell below.\n",
    "\n",
    "You are expected to call the `process_csv` function correctly, and read the data on `airbnb.csv`. After reading the file, define the `csv_header`, and `csv_rows` variables as in [lab-p6](https://git.doit.wisc.edu/cdis/cs/courses/cs220/cs220-f22-projects/-/tree/main/lab-p6), and define the `cell` function.\n",
    "\n",
    "**Important:** You **must** only use the `cell` function to extract data from the dataset. If you extract any data without explicitly using this function, you will **lose points** during manual review. It is recommended but **optional** that you use the `cell_v2` function defined in lab-p6. However, you **must** rename the function to `cell` in your p6 notebook. "
   ]
  },
  {
   "cell_type": "code",
   "execution_count": 196,
   "id": "3c1cdda2",
   "metadata": {
    "tags": []
   },
   "outputs": [],
   "source": [
    "\n",
    "\n",
    "def process_csv (filename): \n",
    "    example_file = open (filename, encoding = \"utf-8\")\n",
    "    example_reader = csv.reader (example_file)\n",
    "    example_data = list (example_reader)\n",
    "    example_file.close ()\n",
    "    return example_data\n",
    "\n",
    "def cell (row_idx, col_name):\n",
    "    col_idx = csv_header.index (col_name)\n",
    "    val = csv_rows[row_idx][col_idx]\n",
    "    if val == \"\":\n",
    "        return None\n",
    "    elif col_name == \"price\":\n",
    "        val = int(val)\n",
    "    elif col_name == \"reviews_per_month\":\n",
    "        val = float(val)\n",
    "    elif col_name == \"minimumm_nights\":\n",
    "        val = int(val)\n",
    "    elif col_name == \"number_of_reviews\":\n",
    "        val = int (val)\n",
    "    return val\n",
    "\n",
    "\n",
    "csv_data = process_csv(\"airbnb.csv\")\n",
    "csv_header = csv_data [0]\n",
    "csv_rows = csv_data [1:]"
   ]
  },
  {
   "cell_type": "markdown",
   "id": "0e714104",
   "metadata": {},
   "source": [
    "**Question 1:** What **unique** `neighborhood_groups` are included in the dataset?\n",
    "\n",
    "Your output **must** be a *list* which stores all the **unique** neighborhood groups (i.e., without any duplicates). The order **does not** matter."
   ]
  },
  {
   "cell_type": "code",
   "execution_count": 197,
   "id": "2beafa70",
   "metadata": {
    "tags": []
   },
   "outputs": [
    {
     "data": {
      "text/plain": [
       "['Manhattan', 'Brooklyn', 'Bronx', 'Staten Island', 'Queens']"
      ]
     },
     "execution_count": 197,
     "metadata": {},
     "output_type": "execute_result"
    }
   ],
   "source": [
    "# compute and store the answer in the variable 'neighborhood_groups', then display it\n",
    "neighborhood_groups = []\n",
    "\n",
    "for row in csv_rows:\n",
    "    neighborhood_group = row [csv_header.index (\"neighborhood_group\")]\n",
    "    if neighborhood_group == \"\":\n",
    "        continue\n",
    "        \n",
    "#     if neighborhood_group == \"neighborhood_group\":\n",
    "#         continue\n",
    "        \n",
    "\n",
    "    neighborhood_groups.append (neighborhood_group)\n",
    "    \n",
    "neighborhood_groups = list (set(neighborhood_groups))\n",
    "neighborhood_groups\n",
    "    "
   ]
  },
  {
   "cell_type": "code",
   "execution_count": 198,
   "id": "14176f10",
   "metadata": {
    "deletable": false,
    "editable": false
   },
   "outputs": [
    {
     "data": {
      "text/html": [
       "<p><strong><pre style='display: inline;'>q1</pre></strong> passed!</p>"
      ],
      "text/plain": [
       "q1 results: All test cases passed!"
      ]
     },
     "execution_count": 198,
     "metadata": {},
     "output_type": "execute_result"
    }
   ],
   "source": [
    "grader.check(\"q1\")"
   ]
  },
  {
   "cell_type": "markdown",
   "id": "b785fff1",
   "metadata": {},
   "source": [
    "**Question 2:** What is the **average** `price` of rooms in the dataset?"
   ]
  },
  {
   "cell_type": "code",
   "execution_count": 199,
   "id": "c6528c6a",
   "metadata": {
    "tags": []
   },
   "outputs": [
    {
     "name": "stdout",
     "output_type": "stream",
     "text": [
      "152.7206871868289\n"
     ]
    }
   ],
   "source": [
    "# compute and store the answer in the variable 'avg_price', then display it\n",
    "\n",
    "prices = []\n",
    "\n",
    "for row_idx in range (len(csv_rows)):\n",
    "    \n",
    "    price = cell (row_idx, \"price\")\n",
    "\n",
    "    prices.append(price)\n",
    "    \n",
    "            \n",
    "if len(prices) > 0:\n",
    "    avg_price = sum(prices) / len (prices)\n",
    "\n",
    "\n",
    "        \n",
    "        \n"
   ]
  },
  {
   "cell_type": "code",
   "execution_count": 200,
   "id": "233c68fe",
   "metadata": {
    "deletable": false,
    "editable": false
   },
   "outputs": [
    {
     "data": {
      "text/html": [
       "<p><strong><pre style='display: inline;'>q2</pre></strong> passed!</p>"
      ],
      "text/plain": [
       "q2 results: All test cases passed!"
      ]
     },
     "execution_count": 200,
     "metadata": {},
     "output_type": "execute_result"
    }
   ],
   "source": [
    "grader.check(\"q2\")"
   ]
  },
  {
   "cell_type": "markdown",
   "id": "2cbddd95",
   "metadata": {},
   "source": [
    "**Question 3:** How many rooms are in the `neighborhood` of *SoHo*?"
   ]
  },
  {
   "cell_type": "code",
   "execution_count": 201,
   "id": "3276b660",
   "metadata": {
    "tags": []
   },
   "outputs": [
    {
     "data": {
      "text/plain": [
       "358"
      ]
     },
     "execution_count": 201,
     "metadata": {},
     "output_type": "execute_result"
    }
   ],
   "source": [
    "# compute and store the answer in the variable 'count_soho', then display it\n",
    "count_soho = 0\n",
    "\n",
    "for idx in range (len(csv_rows)):\n",
    "    if \"SoHo\" == cell (idx, \"neighborhood\"):\n",
    "        count_soho += 1\n",
    "        \n",
    "count_soho"
   ]
  },
  {
   "cell_type": "code",
   "execution_count": 202,
   "id": "e1179043",
   "metadata": {
    "deletable": false,
    "editable": false
   },
   "outputs": [
    {
     "data": {
      "text/html": [
       "<p><strong><pre style='display: inline;'>q3</pre></strong> passed!</p>"
      ],
      "text/plain": [
       "q3 results: All test cases passed!"
      ]
     },
     "execution_count": 202,
     "metadata": {},
     "output_type": "execute_result"
    }
   ],
   "source": [
    "grader.check(\"q3\")"
   ]
  },
  {
   "cell_type": "markdown",
   "id": "a655178b",
   "metadata": {},
   "source": [
    "### Function 1: `find_room_names(phrase)`\n",
    "\n",
    "We require you to complete the below function to answer the next several questions (this is a **requirement**, and you will **lose points** if you do not implement this function)."
   ]
  },
  {
   "cell_type": "code",
   "execution_count": 203,
   "id": "7290e8d6",
   "metadata": {
    "tags": []
   },
   "outputs": [],
   "source": [
    "def find_room_names(phrase):\n",
    "    \"\"\"\n",
    "    find_room_names(phrase) returns a list of all the room names that contain the \n",
    "    substring (case insensitive match) `phrase`.\n",
    "    \"\"\"\n",
    "    # replace with your code    \n",
    "    # TODO: create a list\n",
    "    # TODO: ignore rooms that do not have data entry for name, as indicated by a value of None\n",
    "    # TODO: check if the room name string contains phrase (case insensitive match)\n",
    "    # TODO: if so, add these room names to the list (the room names should be as in the dataset)\n",
    "    # TODO: return your list of room names\n",
    "    room_names = []\n",
    "    for row_idx in range (len (csv_rows)):\n",
    "        room_name = cell (row_idx, \"name\")\n",
    "        if room_name == None:\n",
    "            continue\n",
    "        if phrase.lower() in room_name.lower ():\n",
    "            room_names.append (room_name)\n",
    "    return room_names\n",
    "        "
   ]
  },
  {
   "cell_type": "markdown",
   "id": "b8d252c1",
   "metadata": {},
   "source": [
    "**Question 4:** Find all room `names` that contain the string `\"CBG\"`.\n",
    "    \n",
    "Your output **must** be a *list*. The order **does not** matter. You **must** call the `find_room_names` function to answer this question."
   ]
  },
  {
   "cell_type": "code",
   "execution_count": 204,
   "id": "5a9596cf",
   "metadata": {
    "tags": []
   },
   "outputs": [
    {
     "data": {
      "text/plain": [
       "['CBG CtyBGd HelpsHaiti rm#1:1-4',\n",
       " 'CBG Helps Haiti Room#2.5',\n",
       " 'CBG Helps Haiti Rm #2',\n",
       " 'CBG# 4Tiny room w/ huge window/AC',\n",
       " 'CBG Helps Haiti Rm #3',\n",
       " 'CBG HelpsHaiti #5 Suite']"
      ]
     },
     "execution_count": 204,
     "metadata": {},
     "output_type": "execute_result"
    }
   ],
   "source": [
    "# compute and store the answer in the variable 'rooms_contain_cbg', then display it\n",
    "rooms_contain_cbg = find_room_names(\"CBG\")\n",
    "\n",
    "rooms_contain_cbg"
   ]
  },
  {
   "cell_type": "code",
   "execution_count": 205,
   "id": "7037bdef",
   "metadata": {
    "deletable": false,
    "editable": false
   },
   "outputs": [
    {
     "data": {
      "text/html": [
       "<p><strong><pre style='display: inline;'>q4</pre></strong> passed!</p>"
      ],
      "text/plain": [
       "q4 results: All test cases passed!"
      ]
     },
     "execution_count": 205,
     "metadata": {},
     "output_type": "execute_result"
    }
   ],
   "source": [
    "grader.check(\"q4\")"
   ]
  },
  {
   "cell_type": "markdown",
   "id": "af8bfbfd",
   "metadata": {},
   "source": [
    "**Question 5:** Find all room `names` that contain **either** `\"cinema\"` **or** `\"film\"`.\n",
    "\n",
    "Your output **must** be a *list*. The order **does not** matter, but if a room's `name` contains **both** `\"cinema\"` and `\"film\"`, then the room must be included **only once** in your list. You **must** call the `find_room_names` function to answer this question."
   ]
  },
  {
   "cell_type": "code",
   "execution_count": 206,
   "id": "59ca038d",
   "metadata": {
    "tags": []
   },
   "outputs": [
    {
     "data": {
      "text/plain": [
       "['WoodyAllen FilmSet-Like Digs (Room)',\n",
       " 'HUGE LUX 2FLOOR 2 BDRMSOHO LOFTw/HOME CINEMA',\n",
       " 'The Otheroom Bar/Event/Filming Space -read details',\n",
       " \"Downtown Filmmaker's Loft by WTC\",\n",
       " 'Clean music/film themed bedroom',\n",
       " 'Music Recording Mixing Film Photography Art',\n",
       " 'Shoot. Film. Sleep. Unique Loft Space in Brooklyn.',\n",
       " 'Premium Chelsea 1BR w/ Gym, W/D, Doorman, Sundeck, Cinema, by Blueground',\n",
       " 'WoodyAllen FilmSet-Like Digs (Apt)',\n",
       " 'Film Location',\n",
       " 'TV-PHOTO-FILM-CINEMA-ART GALLERY-MUSIC STUDIO-LOFT',\n",
       " 'Brooklyn townhouse for filming',\n",
       " 'Film / photography location in unique apartment',\n",
       " 'Victorian Film location',\n",
       " 'Cinema + gym included with room',\n",
       " 'Cinema Studio on Duplex Apt.',\n",
       " 'Modern Townhouse for Photo, Film &  Daytime Events',\n",
       " 'Cool apartment in Brooklyn with free cinema & gym',\n",
       " 'Sunny private room featured in film',\n",
       " 'Stunning Chelsea 1BR w/ Gym, W/D, Doorman, Sundeck, Cinema, by Blueground']"
      ]
     },
     "execution_count": 206,
     "metadata": {},
     "output_type": "execute_result"
    }
   ],
   "source": [
    "# compute and store the answer in the variable 'rooms_contain_cinema_film', then display it\n",
    "\n",
    "contains_cinema = find_room_names (\"cinema\")\n",
    "contains_film = find_room_names (\"film\")\n",
    "\n",
    "\n",
    "rooms_contain_cinema_film = list(set(contains_cinema + contains_film))\n",
    "rooms_contain_cinema_film"
   ]
  },
  {
   "cell_type": "code",
   "execution_count": 207,
   "id": "d7dc2aa0",
   "metadata": {
    "deletable": false,
    "editable": false
   },
   "outputs": [
    {
     "data": {
      "text/html": [
       "<p><strong><pre style='display: inline;'>q5</pre></strong> passed!</p>"
      ],
      "text/plain": [
       "q5 results: All test cases passed!"
      ]
     },
     "execution_count": 207,
     "metadata": {},
     "output_type": "execute_result"
    }
   ],
   "source": [
    "grader.check(\"q5\")"
   ]
  },
  {
   "cell_type": "markdown",
   "id": "39758383",
   "metadata": {},
   "source": [
    "**Question 6:** Find the **longest** room `name` that contains the word `\"fun\"`.\n",
    "\n",
    "There is a **unique** such room with the longest `name`, so you **do not** have to worry about breaking ties. You **must** call the `find_room_names` function to answer this question."
   ]
  },
  {
   "cell_type": "code",
   "execution_count": 208,
   "id": "df10f226",
   "metadata": {
    "tags": []
   },
   "outputs": [
    {
     "data": {
      "text/plain": [
       "'Homey 1BR in Fun, Central West Village w/ Doorman by Blueground'"
      ]
     },
     "execution_count": 208,
     "metadata": {},
     "output_type": "execute_result"
    }
   ],
   "source": [
    "# compute and store the answer in the variable 'funnest_room', then display it\n",
    "\n",
    "all_fun_rooms = find_room_names (\"fun\")\n",
    "funnest_room = \"\"\n",
    "for idx in range(len(all_fun_rooms)):\n",
    "    room_name = all_fun_rooms[idx]\n",
    "    if len(funnest_room) < len(room_name):\n",
    "        funnest_room = room_name\n",
    "    \n",
    "funnest_room\n",
    "    \n"
   ]
  },
  {
   "cell_type": "code",
   "execution_count": 209,
   "id": "149fd1f6",
   "metadata": {
    "deletable": false,
    "editable": false
   },
   "outputs": [
    {
     "data": {
      "text/html": [
       "<p><strong><pre style='display: inline;'>q6</pre></strong> passed!</p>"
      ],
      "text/plain": [
       "q6 results: All test cases passed!"
      ]
     },
     "execution_count": 209,
     "metadata": {},
     "output_type": "execute_result"
    }
   ],
   "source": [
    "grader.check(\"q6\")"
   ]
  },
  {
   "cell_type": "markdown",
   "id": "3b449f7b",
   "metadata": {},
   "source": [
    "**Question 7:** Find all the `names` of the rooms which have `price` *0* and have **more than** *30* `reviews`.\n",
    "\n",
    "Your output **must** be a *list*. The names **must** be sorted in **ascending (alphabetical) order**."
   ]
  },
  {
   "cell_type": "code",
   "execution_count": 210,
   "id": "560ffc64",
   "metadata": {
    "tags": []
   },
   "outputs": [
    {
     "data": {
      "text/plain": [
       "['Contemporary bedroom in brownstone with nice view',\n",
       " 'Cozy yet spacious private brownstone bedroom',\n",
       " 'Spacious comfortable master bedroom with nice view',\n",
       " '★Hostel Style Room | Ideal Traveling Buddies★']"
      ]
     },
     "execution_count": 210,
     "metadata": {},
     "output_type": "execute_result"
    }
   ],
   "source": [
    "# compute and store the answer in the variable 'no_cost_rooms', then display it\n",
    "no_cost_rooms = []\n",
    "\n",
    "for row_idx in range(len(csv_rows)):\n",
    "    room_name = cell (row_idx, \"name\")\n",
    "    price = cell (row_idx, \"price\")\n",
    "    reviews = cell (row_idx, \"number_of_reviews\")\n",
    "    if price == 0 and reviews > 30:\n",
    "        no_cost_rooms.append (room_name)\n",
    "        no_cost_rooms.sort ()\n",
    "        \n",
    "no_cost_rooms"
   ]
  },
  {
   "cell_type": "code",
   "execution_count": 211,
   "id": "ab4e1521",
   "metadata": {
    "deletable": false,
    "editable": false
   },
   "outputs": [
    {
     "data": {
      "text/html": [
       "<p><strong><pre style='display: inline;'>q7</pre></strong> passed!</p>"
      ],
      "text/plain": [
       "q7 results: All test cases passed!"
      ]
     },
     "execution_count": 211,
     "metadata": {},
     "output_type": "execute_result"
    }
   ],
   "source": [
    "grader.check(\"q7\")"
   ]
  },
  {
   "cell_type": "markdown",
   "id": "6143b4f2",
   "metadata": {},
   "source": [
    "**Question 8:**  What `neighborhoods` are the rooms that have `prices` greater than *9999* located in?\n",
    "\n",
    "Your output **must** be a *list* of **unique** neighborhoods (i.e., without any duplicates). The names **must** be sorted in **descending (reverse-alphabetical) order**."
   ]
  },
  {
   "cell_type": "code",
   "execution_count": 212,
   "id": "a75c710d",
   "metadata": {
    "tags": []
   },
   "outputs": [
    {
     "data": {
      "text/plain": [
       "['Upper West Side', 'Greenpoint', 'Astoria']"
      ]
     },
     "execution_count": 212,
     "metadata": {},
     "output_type": "execute_result"
    }
   ],
   "source": [
    "# compute and store the answer in the variable 'pricey_neighborhoods', then display it\n",
    "pricey_neighborhoods =  []\n",
    "for row_idx in range(len(csv_rows)):\n",
    "    room_price = cell (row_idx, \"price\")\n",
    "    if room_price > 9999:\n",
    "        room_neighborhood = cell (row_idx, \"neighborhood\")\n",
    "        pricey_neighborhoods.append (room_neighborhood)\n",
    "        pricey_neighborhoods.sort (reverse = True)\n",
    "pricey_neighborhoods"
   ]
  },
  {
   "cell_type": "code",
   "execution_count": 213,
   "id": "b971371d",
   "metadata": {
    "deletable": false,
    "editable": false,
    "scrolled": true
   },
   "outputs": [
    {
     "data": {
      "text/html": [
       "<p><strong><pre style='display: inline;'>q8</pre></strong> passed!</p>"
      ],
      "text/plain": [
       "q8 results: All test cases passed!"
      ]
     },
     "execution_count": 213,
     "metadata": {},
     "output_type": "execute_result"
    }
   ],
   "source": [
    "grader.check(\"q8\")"
   ]
  },
  {
   "cell_type": "markdown",
   "id": "895f7490",
   "metadata": {},
   "source": [
    "**Question 9:** How many rooms received their `last_review` in or before *2015*?\n",
    "\n",
    "You should **ignore** rooms for which the `last_review` data is missing.\n",
    "\n",
    "**Hint:** You can find the date of the last review in the `last_review` column."
   ]
  },
  {
   "cell_type": "code",
   "execution_count": 214,
   "id": "fefd654e",
   "metadata": {
    "tags": []
   },
   "outputs": [
    {
     "data": {
      "text/plain": [
       "1672"
      ]
     },
     "execution_count": 214,
     "metadata": {},
     "output_type": "execute_result"
    }
   ],
   "source": [
    "# compute and store the answer in the variable 'last_review_before_2015', then display it\n",
    "last_review_before_2015 = 0\n",
    "\n",
    "for row_idx in range(len(csv_rows)):\n",
    "    last_review = cell (row_idx, \"last_review\")\n",
    "    if last_review != None and int (last_review [0:4]) <= 2015: \n",
    "        last_review_before_2015 += 1\n",
    "\n",
    "last_review_before_2015"
   ]
  },
  {
   "cell_type": "code",
   "execution_count": 215,
   "id": "11a617ea",
   "metadata": {
    "deletable": false,
    "editable": false
   },
   "outputs": [
    {
     "data": {
      "text/html": [
       "<p><strong><pre style='display: inline;'>q9</pre></strong> passed!</p>"
      ],
      "text/plain": [
       "q9 results: All test cases passed!"
      ]
     },
     "execution_count": 215,
     "metadata": {},
     "output_type": "execute_result"
    }
   ],
   "source": [
    "grader.check(\"q9\")"
   ]
  },
  {
   "cell_type": "markdown",
   "id": "fffea252",
   "metadata": {},
   "source": [
    "### Function 2: `avg_price_per_room_type(room_type, neighborhood)`\n",
    "\n",
    "We require you to complete the below function to answer the next several questions (this is a **requirement**, and you will **lose points** if you do not implement this function)."
   ]
  },
  {
   "cell_type": "code",
   "execution_count": 216,
   "id": "1200df6c",
   "metadata": {
    "tags": []
   },
   "outputs": [],
   "source": [
    "def avg_price_per_room_type(room_type, neighborhood):\n",
    "    '''\n",
    "    avg_price_per_room_type(room_type, neighborhood) returns the average price of \n",
    "    rooms of the type `room_type` in the given `neighborhood`; if there are no\n",
    "    rooms of the type `room_type` in the given `neighborhood`, it returns `None`\n",
    "    '''\n",
    "    # replace with your code    \n",
    "   \n",
    "    prices = []\n",
    "    for row_idx in range(len(csv_rows)):\n",
    "        curr_neighborhood = cell(row_idx, \"neighborhood\")\n",
    "        curr_room = cell(row_idx, \"room_type\")\n",
    "        if curr_room == room_type and curr_neighborhood == neighborhood:\n",
    "            room_price = cell(row_idx, \"price\")\n",
    "            if room_price != None and room_price > 0:\n",
    "                prices.append(room_price)\n",
    "        else: \n",
    "            continue\n",
    "            \n",
    "            \n",
    "    if len(prices) > 0:\n",
    "        return sum (prices) / len (prices)\n",
    "    \n",
    "    else:\n",
    "        return None\n",
    "        \n",
    "    \n",
    "    \n",
    "    \n",
    "    \n",
    "    \n",
    "    \n",
    "    \n",
    "\n",
    "                "
   ]
  },
  {
   "cell_type": "markdown",
   "id": "9fa0cd52",
   "metadata": {},
   "source": [
    "**Question 10:** What is the  **average** cost of a *Private room* in the`neighborhood` *Little Neck*?\n",
    "\n",
    "You **must** call the `avg_price_per_room_type` function to answer this question.\n",
    "\n",
    "**Hint:** To help you debug your code in case you run into any bugs, we have reproduced in the cell below, **all** the rows in the dataset from the `neighborhood` *Little Neck*. If you run into bugs with `avg_price_per_room_type`, it is recommended that you go through your code and verify that it does what it is supposed to, for this tiny dataset."
   ]
  },
  {
   "cell_type": "markdown",
   "id": "53e5a8f7",
   "metadata": {},
   "source": [
    "room_id|name|host_id|host_name|neighborhood_group|neighborhood|latitude|longitude|room_type|price|minimum_nights|number_of_reviews|last_review|reviews_per_month|calculated_host_listings_count|availability_365\n",
    "------|------|------|------|------|------|------|------|------|------|------|------|------|------|------|------|\n",
    "20227428|Douglaston Apartment Room A|18996093|Leonard|Queens|Little Neck|40.75794000000001|-73.72955999999998|Private room|45|1|12|2019-06-22|0.55|5|133\n",
    "21025083|Douglaston (apt 2) Room one\\n(Largest room)|18996093|Leonard|Queens|Little Neck|40.75777|-73.72949|Private room|50|1|6|2018-12-16|0.31|5|94\n",
    "30325639|Cozy shared studio in a safe neighborhood|21495656|Ramy|Queens|Little Neck|40.76212|-73.71928|Shared room|32|3|1|2018-12-04|0.14|1|88\n",
    "31553066|Near major transportation|41090359|Abi|Queens|Little Neck|40.77122|-73.738|Private room|100|1|0|||1|88\n",
    "35515780|30-min to Manhattan Quiet Big House in Great Neck|31859704|Vincent|Queens|Little Neck|40.77444000000001|-73.73373000000002|Entire home/apt|149|3|0|||1|3"
   ]
  },
  {
   "cell_type": "code",
   "execution_count": 217,
   "id": "2a0e2bdc",
   "metadata": {
    "tags": []
   },
   "outputs": [
    {
     "data": {
      "text/plain": [
       "65.0"
      ]
     },
     "execution_count": 217,
     "metadata": {},
     "output_type": "execute_result"
    }
   ],
   "source": [
    "# compute and store the answer in the variable 'pvt_room_little_neck', then display it\n",
    "pvt_room_little_neck = avg_price_per_room_type (\"Private room\", \"Little Neck\")\n",
    "pvt_room_little_neck"
   ]
  },
  {
   "cell_type": "code",
   "execution_count": 218,
   "id": "0667f9cd",
   "metadata": {
    "deletable": false,
    "editable": false
   },
   "outputs": [
    {
     "data": {
      "text/html": [
       "<p><strong><pre style='display: inline;'>q10</pre></strong> passed!</p>"
      ],
      "text/plain": [
       "q10 results: All test cases passed!"
      ]
     },
     "execution_count": 218,
     "metadata": {},
     "output_type": "execute_result"
    }
   ],
   "source": [
    "grader.check(\"q10\")"
   ]
  },
  {
   "cell_type": "markdown",
   "id": "61cffaaa",
   "metadata": {},
   "source": [
    "**Question 11:** How much more expensive is a *Entire home/apt* than a *Private room* in the `neighborhood` *Astoria*?\n",
    "\n",
    "You **must** call the `avg_price_per_room_type` function to answer this question."
   ]
  },
  {
   "cell_type": "code",
   "execution_count": 219,
   "id": "87968123",
   "metadata": {
    "tags": []
   },
   "outputs": [
    {
     "data": {
      "text/plain": [
       "46.02133741379495"
      ]
     },
     "execution_count": 219,
     "metadata": {},
     "output_type": "execute_result"
    }
   ],
   "source": [
    "# compute and store the answer in the variable 'home_pvt_room_astoria_diff', then display it\n",
    "home_pvt_room_astoria_diff = avg_price_per_room_type (\"Entire home/apt\", \"Astoria\") - avg_price_per_room_type (\"Private room\", \"Astoria\")\n",
    "home_pvt_room_astoria_diff"
   ]
  },
  {
   "cell_type": "code",
   "execution_count": 220,
   "id": "2746b67f",
   "metadata": {
    "deletable": false,
    "editable": false
   },
   "outputs": [
    {
     "data": {
      "text/html": [
       "<p><strong><pre style='display: inline;'>q11</pre></strong> passed!</p>"
      ],
      "text/plain": [
       "q11 results: All test cases passed!"
      ]
     },
     "execution_count": 220,
     "metadata": {},
     "output_type": "execute_result"
    }
   ],
   "source": [
    "grader.check(\"q11\")"
   ]
  },
  {
   "cell_type": "markdown",
   "id": "17498e25",
   "metadata": {},
   "source": [
    "### Function 3: `find_prices_within(lat_min, lat_max, long_min, long_max)` \n",
    "\n",
    "We require you to complete the below function to answer the next several questions (this is a **requirement**, and you will **lose points** if you do not implement this function)."
   ]
  },
  {
   "cell_type": "code",
   "execution_count": 221,
   "id": "71f869cd",
   "metadata": {
    "tags": []
   },
   "outputs": [],
   "source": [
    "def find_prices_within(lat_min, lat_max, long_min, long_max):\n",
    "    \n",
    "    prices = []\n",
    "    for row_idx in range(len(csv_rows)):        \n",
    "        lat_of_room = float(cell(row_idx, \"latitude\"))\n",
    "        long_of_room = float (cell(row_idx, \"longitude\"))\n",
    "        if lat_min <= lat_of_room <= lat_max and long_min <= long_of_room <= long_max:\n",
    "            prices.append (cell(row_idx, \"price\"))\n",
    "    return prices\n",
    "    \n",
    "    \"\"\"\n",
    "    find_prices_within(lat_min, lat_max, long_min, long_max) returns an unordered \n",
    "    list of prices of all the rooms within the geographical location between and including\n",
    "    the latitudes lat_min and lat_max and longitudes long_min and long_max.\n",
    "    \"\"\"\n"
   ]
  },
  {
   "cell_type": "markdown",
   "id": "9875b5ad",
   "metadata": {},
   "source": [
    "**Question 12:** What is the **lowest** `price` room near *NYU* (`40.729 <= latitude <= 40.73, -74.01 <= longitude <= -74.00`)?\n",
    "\n",
    "You **must** call the `find_prices_within` function to answer this question."
   ]
  },
  {
   "cell_type": "code",
   "execution_count": 222,
   "id": "d169db65",
   "metadata": {
    "tags": []
   },
   "outputs": [
    {
     "data": {
      "text/plain": [
       "75"
      ]
     },
     "execution_count": 222,
     "metadata": {},
     "output_type": "execute_result"
    }
   ],
   "source": [
    "# compute and store the answer in the variable 'min_price_nyu', then display it\n",
    "min_price_nyu = min (find_prices_within (40.729, 40.73, -74.01, -74.00))\n",
    "min_price_nyu"
   ]
  },
  {
   "cell_type": "code",
   "execution_count": 223,
   "id": "44395227",
   "metadata": {
    "deletable": false,
    "editable": false
   },
   "outputs": [
    {
     "data": {
      "text/html": [
       "<p><strong><pre style='display: inline;'>q12</pre></strong> passed!</p>"
      ],
      "text/plain": [
       "q12 results: All test cases passed!"
      ]
     },
     "execution_count": 223,
     "metadata": {},
     "output_type": "execute_result"
    }
   ],
   "source": [
    "grader.check(\"q12\")"
   ]
  },
  {
   "cell_type": "markdown",
   "id": "4a68871e",
   "metadata": {},
   "source": [
    "### Function 4: `median(items)` \n",
    "\n",
    "We require you to complete the below function to answer the next several questions (this is a **requirement**, and you will **lose points** if you do not implement this function)."
   ]
  },
  {
   "cell_type": "code",
   "execution_count": 224,
   "id": "fafd6aef",
   "metadata": {
    "tags": []
   },
   "outputs": [],
   "source": [
    "def median(items):\n",
    "    \n",
    "    sorted_list = sorted (items)\n",
    "    list_len = len (sorted_list)\n",
    "    if list_len % 2  == 1:\n",
    "        return sorted_list [list_len // 2]\n",
    "    else:\n",
    "        first_middle = sorted_list [list_len //2 -1]\n",
    "        second_middle = sorted_list [list_len // 2]\n",
    "        return (first_middle + second_middle) / 2\n",
    "    \"\"\"\n",
    "    median(items) returns the median of the list `items`\n",
    "    \"\"\"\n",
    "    \n",
    "    # you may copy/paste this function from your lab-p6 notebook"
   ]
  },
  {
   "cell_type": "markdown",
   "id": "f1dfbc53",
   "metadata": {},
   "source": [
    "**Question 13:** What is the **median** `price` of the rooms near *Columbia University* (`40.79 <= latitude <= 40.80, -73.96 <= longitude <= -73.95`)?\n",
    "\n",
    "You **must** call the `find_prices_within` function to answer this question."
   ]
  },
  {
   "cell_type": "code",
   "execution_count": 225,
   "id": "426c2346",
   "metadata": {
    "tags": []
   },
   "outputs": [
    {
     "data": {
      "text/plain": [
       "100"
      ]
     },
     "execution_count": 225,
     "metadata": {},
     "output_type": "execute_result"
    }
   ],
   "source": [
    "# compute and store the answer in the variable 'median_price_columbia', then display it\n",
    "median_price_columbia = median (find_prices_within (40.79, 40.80, -73.96, -73.95))\n",
    "median_price_columbia"
   ]
  },
  {
   "cell_type": "code",
   "execution_count": 226,
   "id": "368b96eb",
   "metadata": {
    "deletable": false,
    "editable": false
   },
   "outputs": [
    {
     "data": {
      "text/html": [
       "<p><strong><pre style='display: inline;'>q13</pre></strong> passed!</p>"
      ],
      "text/plain": [
       "q13 results: All test cases passed!"
      ]
     },
     "execution_count": 226,
     "metadata": {},
     "output_type": "execute_result"
    }
   ],
   "source": [
    "grader.check(\"q13\")"
   ]
  },
  {
   "cell_type": "markdown",
   "id": "bdd2571a",
   "metadata": {},
   "source": [
    "**Question 14:** What **percentage** of rooms near *Rockefeller Center* (`40.749 <= latitude <= 40.75, -73.98 <= longitude <= -73.97`) have a `price` **more than** *100*?\n",
    "\n",
    "Your answer **must** be a *float* value between *0* and *100*. You **must** call the `find_prices_within` function to answer this question."
   ]
  },
  {
   "cell_type": "code",
   "execution_count": 227,
   "id": "ccdee937",
   "metadata": {
    "tags": []
   },
   "outputs": [
    {
     "data": {
      "text/plain": [
       "93.10344827586206"
      ]
     },
     "execution_count": 227,
     "metadata": {},
     "output_type": "execute_result"
    }
   ],
   "source": [
    "# compute and store the answer in the variable 'pct_price_over_hundred', then display it\n",
    "\n",
    "\n",
    "prices_near_rockefeller = find_prices_within(40.749, 40.75, -73.98, -73.97)\n",
    "rooms_over_hundred = 0\n",
    "for prices in prices_near_rockefeller:    \n",
    "    if prices > 100:\n",
    "        rooms_over_hundred += 1\n",
    "\n",
    "pct_price_over_hundred = (rooms_over_hundred/len(prices_near_rockefeller)) * 100\n",
    "pct_price_over_hundred"
   ]
  },
  {
   "cell_type": "code",
   "execution_count": 228,
   "id": "8668e977",
   "metadata": {
    "deletable": false,
    "editable": false
   },
   "outputs": [
    {
     "data": {
      "text/html": [
       "<p><strong><pre style='display: inline;'>q14</pre></strong> passed!</p>"
      ],
      "text/plain": [
       "q14 results: All test cases passed!"
      ]
     },
     "execution_count": 228,
     "metadata": {},
     "output_type": "execute_result"
    }
   ],
   "source": [
    "grader.check(\"q14\")"
   ]
  },
  {
   "cell_type": "markdown",
   "id": "59fa206d",
   "metadata": {},
   "source": [
    "### Function 5: `review_avail_ratio(neighborhood)` \n",
    "\n",
    "We require you to complete the below function to answer the next several questions (this is a **requirement**, and you will **lose points** if you do not implement this function)."
   ]
  },
  {
   "cell_type": "markdown",
   "id": "b9363a6a",
   "metadata": {},
   "source": [
    "You should ignore rooms that have `availability_365` data of 0. You should also ignore rooms for which the ratio cannot be computed due to missing data.\n",
    "\n",
    "1.  The denominator is the availability of a room (`availability_365` column). The numerator is the number of reviews of a room (`number_of_reviews column`). \n",
    "2.  Be careful! You need to compute the ratio for each room in the given neighborhood, then take the average of those ratios. Simply dividing the sum of reviews by the sum of availability will calculate the wrong answer.\n"
   ]
  },
  {
   "cell_type": "code",
   "execution_count": 229,
   "id": "10165bad",
   "metadata": {
    "tags": []
   },
   "outputs": [],
   "source": [
    "def review_avail_ratio(neighborhood):\n",
    "    \n",
    "    \n",
    "    reviews_to_availability_ratio = []\n",
    "    for row_idx in range(len(csv_rows)):\n",
    "        curr_neighborhood = cell(row_idx, \"neighborhood\")\n",
    "        if curr_neighborhood == neighborhood:\n",
    "            reviews = int(cell(row_idx, \"number_of_reviews\"))\n",
    "            rooms_available = int(cell(row_idx, \"availability_365\"))\n",
    "            if reviews == None or rooms_available == 0 or rooms_available == None:\n",
    "                continue               \n",
    "            else:\n",
    "                ratio = reviews / rooms_available\n",
    "                reviews_to_availability_ratio.append(ratio)\n",
    "        \n",
    "\n",
    "    if len (reviews_to_availability_ratio) == 0:\n",
    "        return 0\n",
    "    else:\n",
    "        avg_ratio = sum(reviews_to_availability_ratio) / len(reviews_to_availability_ratio)\n",
    "        return avg_ratio\n",
    "\n",
    "    \n",
    "    \n",
    "    \n",
    "            \n",
    "            \n",
    "    \"\"\"\n",
    "    review_avail_ratio(neighborhood) returns the average of the ratios of \n",
    "    number of reviews to availability of all rooms in the `neighborhood`\n",
    "    \"\"\"\n",
    "    # TODO: you should **ignore** rooms that have `availability_365` data of 0\n",
    "    # TODO: you should **ignore** rooms for which the ratio cannot be computed due to missing data\n",
    "    # Hint: the numerator is the number of reviews of a room (`number_of_reviews column`)\n",
    "    # Hint: the denominator is the availability of a room (`availability_365` column)\n",
    "    # Hint: note that you need to compute the average of the ratios, **not** the ratio of the averages.\n",
    "    #       you must compute the ratio for each room in the `neighborhood`, then take the average of those ratios.\n",
    "    #       simply dividing the sum of reviews by the sum of availability will calculate the wrong answer."
   ]
  },
  {
   "cell_type": "markdown",
   "id": "e6dca681",
   "metadata": {},
   "source": [
    "**Question 15:** What is the **average of the ratios** of the `number_of_reviews` to `availability_365` in the `neighborhood` *Bushwick*?\n",
    "\n",
    "You **must** call the `review_avail_ratio` function to answer this question."
   ]
  },
  {
   "cell_type": "code",
   "execution_count": 230,
   "id": "b4afd95a",
   "metadata": {
    "tags": []
   },
   "outputs": [
    {
     "data": {
      "text/plain": [
       "0.9856466156705752"
      ]
     },
     "execution_count": 230,
     "metadata": {},
     "output_type": "execute_result"
    }
   ],
   "source": [
    "# compute and store the answer in the variable 'bushwick_avg_ratio', then display it\n",
    "bushwick_avg_ratio = review_avail_ratio(\"Bushwick\")\n",
    "bushwick_avg_ratio"
   ]
  },
  {
   "cell_type": "code",
   "execution_count": 231,
   "id": "2aa4c910",
   "metadata": {
    "deletable": false,
    "editable": false
   },
   "outputs": [
    {
     "data": {
      "text/html": [
       "<p><strong><pre style='display: inline;'>q15</pre></strong> passed!</p>"
      ],
      "text/plain": [
       "q15 results: All test cases passed!"
      ]
     },
     "execution_count": 231,
     "metadata": {},
     "output_type": "execute_result"
    }
   ],
   "source": [
    "grader.check(\"q15\")"
   ]
  },
  {
   "cell_type": "markdown",
   "id": "e716f7f4",
   "metadata": {},
   "source": [
    "**Question 16:** What is the **average of the ratios** of the `number_of_reviews` to `availability_365` in the `neighborhood` *Manhattan Beach*?\n",
    "\n",
    "You **must** call the `review_avail_ratio` function to answer this question."
   ]
  },
  {
   "cell_type": "code",
   "execution_count": 232,
   "id": "b168d4de",
   "metadata": {
    "tags": []
   },
   "outputs": [
    {
     "data": {
      "text/plain": [
       "0.27323293295076073"
      ]
     },
     "execution_count": 232,
     "metadata": {},
     "output_type": "execute_result"
    }
   ],
   "source": [
    "# compute and store the answer in the variable 'manhattan_beach_avg_ratio', then display it\n",
    "manhattan_beach_avg_ratio = review_avail_ratio(\"Manhattan Beach\")\n",
    "manhattan_beach_avg_ratio"
   ]
  },
  {
   "cell_type": "code",
   "execution_count": 233,
   "id": "a7d3a2a5",
   "metadata": {
    "deletable": false,
    "editable": false
   },
   "outputs": [
    {
     "data": {
      "text/html": [
       "<p><strong><pre style='display: inline;'>q16</pre></strong> passed!</p>"
      ],
      "text/plain": [
       "q16 results: All test cases passed!"
      ]
     },
     "execution_count": 233,
     "metadata": {},
     "output_type": "execute_result"
    }
   ],
   "source": [
    "grader.check(\"q16\")"
   ]
  },
  {
   "cell_type": "markdown",
   "id": "dcfb9f21",
   "metadata": {},
   "source": [
    "**Question 17:** Which `neighborhood` in the `neighborhood_group` *Staten Island* has the **highest average of ratios** of the `number_of_reviews` to `availability_365`?\n",
    "\n",
    "**Clarification:** Don't worry about it if this cell takes around 10 seconds to run, that is expected. If it takes much longer (i.e., more than 30 seconds), you **must** optimize your code. Attend office hours if you are unable to get your code to run faster.\n",
    "\n",
    "**Hint:** You do not need to compute the average of ratios for the **same** `neighborhood` more than once. Make a list of the **unique** neighborhoods in *Staten Island* first, and then find the **highest average of ratios** among those `neighborhoods`."
   ]
  },
  {
   "cell_type": "code",
   "execution_count": 234,
   "id": "5076061e",
   "metadata": {
    "tags": []
   },
   "outputs": [
    {
     "data": {
      "text/plain": [
       "'Arden Heights'"
      ]
     },
     "execution_count": 234,
     "metadata": {},
     "output_type": "execute_result"
    }
   ],
   "source": [
    "# compute and store the answer in the variable 'max_nbhd_staten_island', then display it\n",
    "\n",
    "\n",
    "staten_neighborhoods = []\n",
    "max_ratio = 0\n",
    "max_nbhd_staten_island = None\n",
    "for row_idx in range (len(csv_rows)):\n",
    "    curr_neighborhood_group = cell(row_idx, \"neighborhood_group\")\n",
    "    if curr_neighborhood_group == \"Staten Island\":\n",
    "        neighborhood = cell(row_idx, \"neighborhood\")\n",
    "        staten_neighborhoods.append(neighborhood)\n",
    "list(set(staten_neighborhoods))\n",
    "\n",
    "for neighborhood in staten_neighborhoods:\n",
    "    ratio = review_avail_ratio(neighborhood)\n",
    "    if ratio > max_ratio or max_nbhd_staten_island == None:\n",
    "        max_ratio = ratio\n",
    "        max_nbhd_staten_island = neighborhood\n",
    "max_nbhd_staten_island"
   ]
  },
  {
   "cell_type": "code",
   "execution_count": 235,
   "id": "f142c802",
   "metadata": {
    "deletable": false,
    "editable": false
   },
   "outputs": [
    {
     "data": {
      "text/html": [
       "<p><strong><pre style='display: inline;'>q17</pre></strong> passed!</p>"
      ],
      "text/plain": [
       "q17 results: All test cases passed!"
      ]
     },
     "execution_count": 235,
     "metadata": {},
     "output_type": "execute_result"
    }
   ],
   "source": [
    "grader.check(\"q17\")"
   ]
  },
  {
   "cell_type": "markdown",
   "id": "a6085a9f",
   "metadata": {},
   "source": [
    "### Function 6: `secondary_word_in_found_rooms(find_room_word, secondary_word)`\n",
    "\n",
    "\n",
    "We require you to complete the below function to answer the next several questions (this is a **requirement**, and you will **lose points** if you do not implement this function).\n",
    "\n",
    "`secondary_word_in_found_rooms` function definition **must** invoke the function `find_room_names`. **We'll manually deduct points** if you don't use `find_room_names`."
   ]
  },
  {
   "cell_type": "code",
   "execution_count": 236,
   "id": "87e29aaf",
   "metadata": {
    "tags": []
   },
   "outputs": [],
   "source": [
    "def secondary_word_in_found_rooms(find_room_word, secondary_word):\n",
    "    \"\"\"\n",
    "    secondary_word_in_found_rooms(find_room_word, secondary_word) returns \n",
    "    the percentage of names containing the word `find_room_word` (case insensitive match)\n",
    "    that also contains the word `secondary_word` (case insensitive match).\n",
    "    \"\"\"    \n",
    "    \n",
    "    first_word_rooms = find_room_names(find_room_word)\n",
    "    second_word_rooms = 0\n",
    "    for name in first_word_rooms:\n",
    "        if secondary_word.lower() in name.lower(): \n",
    "            second_word_rooms += 1\n",
    "        \n",
    "    pct_secondary_word_in_found_rooms = (second_word_rooms / len(first_word_rooms)) * 100\n",
    "    \n",
    "    return pct_secondary_word_in_found_rooms\n",
    "    \n",
    "    # Hint: the denominator is the number of rooms with `find_room_word` in their name.\n",
    "    # Hint: the numerator is the number of rooms that have **both** `find_room_word` and `secondary_word` in their name."
   ]
  },
  {
   "cell_type": "markdown",
   "id": "7526d52e",
   "metadata": {},
   "source": [
    "**Question 18:** What **percentage** of rooms whose `names` contain the word `\"downtown\"` **also** contain the word `\"spacious\"`?\n",
    "\n",
    "Your answer **must** be a *float* value between *0* and *100*. You **must** call the `secondary_word_in_found_rooms` function to answer this question."
   ]
  },
  {
   "cell_type": "code",
   "execution_count": 237,
   "id": "1345be1a",
   "metadata": {
    "tags": []
   },
   "outputs": [
    {
     "data": {
      "text/plain": [
       "5.541561712846348"
      ]
     },
     "execution_count": 237,
     "metadata": {},
     "output_type": "execute_result"
    }
   ],
   "source": [
    "# compute and store the answer in the variable 'downtown_and_spacious', then display it\n",
    "downtown_and_spacious = secondary_word_in_found_rooms (\"downtown\", \"spacious\")\n",
    "downtown_and_spacious"
   ]
  },
  {
   "cell_type": "code",
   "execution_count": 239,
   "id": "22281790",
   "metadata": {
    "deletable": false,
    "editable": false
   },
   "outputs": [
    {
     "data": {
      "text/html": [
       "<p><strong><pre style='display: inline;'>q18</pre></strong> passed!</p>"
      ],
      "text/plain": [
       "q18 results: All test cases passed!"
      ]
     },
     "execution_count": 239,
     "metadata": {},
     "output_type": "execute_result"
    }
   ],
   "source": [
    "grader.check(\"q18\")"
   ]
  },
  {
   "cell_type": "markdown",
   "id": "960e302e",
   "metadata": {},
   "source": [
    "**Question 19:** What **percentage** of rooms whose `names` contain the word `\"university\"` **also** contain the word `\"studio\"`?\n",
    "\n",
    "Your answer **must** be a *float* value between *0* and *100*. You **must** call the `secondary_word_in_found_rooms` function to answer this question."
   ]
  },
  {
   "cell_type": "code",
   "execution_count": 240,
   "id": "52be0ff8",
   "metadata": {
    "tags": []
   },
   "outputs": [
    {
     "data": {
      "text/plain": [
       "6.837606837606838"
      ]
     },
     "execution_count": 240,
     "metadata": {},
     "output_type": "execute_result"
    }
   ],
   "source": [
    "# compute and store the answer in the variable 'university_and_studio', then display it\n",
    "university_and_studio = secondary_word_in_found_rooms (\"university\", \"studio\")\n",
    "university_and_studio"
   ]
  },
  {
   "cell_type": "code",
   "execution_count": 241,
   "id": "cce2b96a",
   "metadata": {
    "deletable": false,
    "editable": false
   },
   "outputs": [
    {
     "data": {
      "text/html": [
       "<p><strong><pre style='display: inline;'>q19</pre></strong> passed!</p>"
      ],
      "text/plain": [
       "q19 results: All test cases passed!"
      ]
     },
     "execution_count": 241,
     "metadata": {},
     "output_type": "execute_result"
    }
   ],
   "source": [
    "grader.check(\"q19\")"
   ]
  },
  {
   "cell_type": "markdown",
   "id": "e5e9df6d",
   "metadata": {},
   "source": [
    "**Question 20:** On a trip to NYC, you need to stay for *3* days in *Queens*, and then *4* days in *Brooklyn*. What is the **minimum** amount of money you need to spend on this trip?\n",
    "\n",
    "Note that:\n",
    "1. The price of each room is for each day.\n",
    "2. The total cost = (lowest price in Queens) * 3 + (lowest price in Brooklyn) * 4.\n",
    "3. You'll need to **skip** those rooms that don't have enough availability.\n",
    "\n",
    "\n",
    "**Hint:** You might want to define a helper function to compute the **minimum** daily `price` of a room in a given `neighborhood_group` among rooms whose `availability_365` is equal to or larger than the number of days one will be staying in that neighborhood group."
   ]
  },
  {
   "cell_type": "code",
   "execution_count": 242,
   "id": "70e3cc8e",
   "metadata": {
    "tags": []
   },
   "outputs": [
    {
     "data": {
      "text/plain": [
       "30"
      ]
     },
     "execution_count": 242,
     "metadata": {},
     "output_type": "execute_result"
    }
   ],
   "source": [
    "# compute and store the answer in the variable 'min_cost_trip', then display it\n",
    "\n",
    "def min_daily_price (neighborhood_group, days_stay):\n",
    "    prices_in_neighborhood_group = []\n",
    "    for row_idx in range(len(csv_rows)):\n",
    "        curr_neighborhood_group = cell(row_idx, \"neighborhood_group\")\n",
    "        if curr_neighborhood_group == neighborhood_group:\n",
    "            room_availability = int(cell(row_idx, \"availability_365\"))\n",
    "            if room_availability >= days_stay:\n",
    "                price = cell(row_idx, \"price\")\n",
    "                prices_in_neighborhood_group.append (price)\n",
    "                         \n",
    "                         \n",
    "    if len(prices_in_neighborhood_group) > 0:\n",
    "        min_daily_price = min (prices_in_neighborhood_group)\n",
    "                         \n",
    "    return min_daily_price\n",
    "                         \n",
    "min_cost_trip = (min_daily_price (\"Queens\", 3))*3 + (min_daily_price (\"Brooklyn\", 4))*4\n",
    "\n",
    "min_cost_trip\n",
    "            \n",
    "                         "
   ]
  },
  {
   "cell_type": "code",
   "execution_count": 243,
   "id": "3ef260be",
   "metadata": {
    "deletable": false,
    "editable": false
   },
   "outputs": [
    {
     "data": {
      "text/html": [
       "<p><strong><pre style='display: inline;'>q20</pre></strong> passed!</p>"
      ],
      "text/plain": [
       "q20 results: All test cases passed!"
      ]
     },
     "execution_count": 243,
     "metadata": {},
     "output_type": "execute_result"
    }
   ],
   "source": [
    "grader.check(\"q20\")"
   ]
  },
  {
   "cell_type": "markdown",
   "id": "d205702b",
   "metadata": {
    "deletable": false,
    "editable": false
   },
   "source": [
    "## Submission\n",
    "\n",
    "Make sure you have run all cells in your notebook in order before running the cell below, so that all images/graphs appear in the output. The cell below will generate a zip file for you to submit. **Please save before exporting!**\n",
    "\n",
    "**SUBMISSION INSTRUCTIONS**: 1. **Save** the notebook file **now (before you run the next cell of code)**. 2. **Upload** the zipfile to Gradescope. 3. Check **Gradescope otter** results as soon as the auto-grader execution gets completed. Don't worry about the score showing up as -/100.0. You only need to check that the test cases passed."
   ]
  },
  {
   "cell_type": "code",
   "execution_count": 244,
   "id": "ae4e418c",
   "metadata": {
    "deletable": false,
    "editable": false
   },
   "outputs": [
    {
     "name": "stdout",
     "output_type": "stream",
     "text": [
      "Running your submission against local test cases...\n",
      "\n"
     ]
    },
    {
     "ename": "PermissionError",
     "evalue": "[WinError 32] The process cannot access the file because it is being used by another process: 'C:\\\\Users\\\\popur\\\\AppData\\\\Local\\\\Temp\\\\tmpnbjjoox5.pkl'",
     "output_type": "error",
     "traceback": [
      "\u001b[1;31m---------------------------------------------------------------------------\u001b[0m",
      "\u001b[1;31mRuntimeError\u001b[0m                              Traceback (most recent call last)",
      "File \u001b[1;32m~\\anaconda3\\lib\\site-packages\\otter\\check\\utils.py:78\u001b[0m, in \u001b[0;36mgrade_zip_file\u001b[1;34m(zip_path, nb_arcname, tests_dir)\u001b[0m\n\u001b[0;32m     77\u001b[0m \u001b[38;5;28;01mif\u001b[39;00m results\u001b[38;5;241m.\u001b[39mstderr:\n\u001b[1;32m---> 78\u001b[0m     \u001b[38;5;28;01mraise\u001b[39;00m \u001b[38;5;167;01mRuntimeError\u001b[39;00m(results\u001b[38;5;241m.\u001b[39mstderr)\n\u001b[0;32m     80\u001b[0m \u001b[38;5;28;01mwith\u001b[39;00m \u001b[38;5;28mopen\u001b[39m(results_path, \u001b[38;5;124m\"\u001b[39m\u001b[38;5;124mrb\u001b[39m\u001b[38;5;124m\"\u001b[39m) \u001b[38;5;28;01mas\u001b[39;00m f:\n",
      "\u001b[1;31mRuntimeError\u001b[0m: b'Python was not found; run without arguments to install from the Microsoft Store, or disable this shortcut from Settings > Manage App Execution Aliases.\\r\\n'",
      "\nDuring handling of the above exception, another exception occurred:\n",
      "\u001b[1;31mPermissionError\u001b[0m                           Traceback (most recent call last)",
      "Input \u001b[1;32mIn [244]\u001b[0m, in \u001b[0;36m<cell line: 2>\u001b[1;34m()\u001b[0m\n\u001b[0;32m      1\u001b[0m \u001b[38;5;66;03m# Save your notebook first, then run this cell to export your submission.\u001b[39;00m\n\u001b[1;32m----> 2\u001b[0m \u001b[43mgrader\u001b[49m\u001b[38;5;241;43m.\u001b[39;49m\u001b[43mexport\u001b[49m\u001b[43m(\u001b[49m\u001b[43mpdf\u001b[49m\u001b[38;5;241;43m=\u001b[39;49m\u001b[38;5;28;43;01mFalse\u001b[39;49;00m\u001b[43m,\u001b[49m\u001b[43m \u001b[49m\u001b[43mrun_tests\u001b[49m\u001b[38;5;241;43m=\u001b[39;49m\u001b[38;5;28;43;01mTrue\u001b[39;49;00m\u001b[43m)\u001b[49m\n",
      "File \u001b[1;32m~\\anaconda3\\lib\\site-packages\\otter\\check\\utils.py:151\u001b[0m, in \u001b[0;36mgrading_mode_disabled\u001b[1;34m(wrapped, self, args, kwargs)\u001b[0m\n\u001b[0;32m    149\u001b[0m \u001b[38;5;28;01mif\u001b[39;00m \u001b[38;5;28mtype\u001b[39m(\u001b[38;5;28mself\u001b[39m)\u001b[38;5;241m.\u001b[39m_grading_mode:\n\u001b[0;32m    150\u001b[0m     \u001b[38;5;28;01mreturn\u001b[39;00m\n\u001b[1;32m--> 151\u001b[0m \u001b[38;5;28;01mreturn\u001b[39;00m wrapped(\u001b[38;5;241m*\u001b[39margs, \u001b[38;5;241m*\u001b[39m\u001b[38;5;241m*\u001b[39mkwargs)\n",
      "File \u001b[1;32m~\\anaconda3\\lib\\site-packages\\otter\\check\\utils.py:138\u001b[0m, in \u001b[0;36mincompatible_with.<locals>.incompatible\u001b[1;34m(wrapped, self, args, kwargs)\u001b[0m\n\u001b[0;32m    136\u001b[0m     \u001b[38;5;28;01melse\u001b[39;00m:\n\u001b[0;32m    137\u001b[0m         \u001b[38;5;28;01mreturn\u001b[39;00m\n\u001b[1;32m--> 138\u001b[0m \u001b[38;5;28;01mreturn\u001b[39;00m wrapped(\u001b[38;5;241m*\u001b[39margs, \u001b[38;5;241m*\u001b[39m\u001b[38;5;241m*\u001b[39mkwargs)\n",
      "File \u001b[1;32m~\\anaconda3\\lib\\site-packages\\otter\\check\\utils.py:188\u001b[0m, in \u001b[0;36mlogs_event.<locals>.event_logger\u001b[1;34m(wrapped, self, args, kwargs)\u001b[0m\n\u001b[0;32m    186\u001b[0m \u001b[38;5;28;01mexcept\u001b[39;00m \u001b[38;5;167;01mException\u001b[39;00m \u001b[38;5;28;01mas\u001b[39;00m e:\n\u001b[0;32m    187\u001b[0m     \u001b[38;5;28mself\u001b[39m\u001b[38;5;241m.\u001b[39m_log_event(event_type, success\u001b[38;5;241m=\u001b[39m\u001b[38;5;28;01mFalse\u001b[39;00m, error\u001b[38;5;241m=\u001b[39me)\n\u001b[1;32m--> 188\u001b[0m     \u001b[38;5;28;01mraise\u001b[39;00m e\n\u001b[0;32m    190\u001b[0m \u001b[38;5;28;01melse\u001b[39;00m:\n\u001b[0;32m    191\u001b[0m     \u001b[38;5;28mself\u001b[39m\u001b[38;5;241m.\u001b[39m_log_event(event_type, results\u001b[38;5;241m=\u001b[39mresults, question\u001b[38;5;241m=\u001b[39mquestion, shelve_env\u001b[38;5;241m=\u001b[39mshelve_env)\n",
      "File \u001b[1;32m~\\anaconda3\\lib\\site-packages\\otter\\check\\utils.py:182\u001b[0m, in \u001b[0;36mlogs_event.<locals>.event_logger\u001b[1;34m(wrapped, self, args, kwargs)\u001b[0m\n\u001b[0;32m    179\u001b[0m     question, results, shelve_env \u001b[38;5;241m=\u001b[39m wrapped(\u001b[38;5;241m*\u001b[39margs, \u001b[38;5;241m*\u001b[39m\u001b[38;5;241m*\u001b[39mkwargs)\n\u001b[0;32m    181\u001b[0m \u001b[38;5;28;01melse\u001b[39;00m:\n\u001b[1;32m--> 182\u001b[0m     results \u001b[38;5;241m=\u001b[39m wrapped(\u001b[38;5;241m*\u001b[39margs, \u001b[38;5;241m*\u001b[39m\u001b[38;5;241m*\u001b[39mkwargs)\n\u001b[0;32m    183\u001b[0m     shelve_env \u001b[38;5;241m=\u001b[39m {}\n\u001b[0;32m    184\u001b[0m     question \u001b[38;5;241m=\u001b[39m \u001b[38;5;28;01mNone\u001b[39;00m\n",
      "File \u001b[1;32m~\\anaconda3\\lib\\site-packages\\otter\\check\\notebook.py:415\u001b[0m, in \u001b[0;36mNotebook.export\u001b[1;34m(self, nb_path, export_path, pdf, filtering, pagebreaks, files, display_link, force_save, run_tests)\u001b[0m\n\u001b[0;32m    413\u001b[0m \u001b[38;5;28;01mif\u001b[39;00m run_tests:\n\u001b[0;32m    414\u001b[0m     \u001b[38;5;28mprint\u001b[39m(\u001b[38;5;124m\"\u001b[39m\u001b[38;5;124mRunning your submission against local test cases...\u001b[39m\u001b[38;5;130;01m\\n\u001b[39;00m\u001b[38;5;124m\"\u001b[39m)\n\u001b[1;32m--> 415\u001b[0m     results \u001b[38;5;241m=\u001b[39m \u001b[43mgrade_zip_file\u001b[49m\u001b[43m(\u001b[49m\u001b[43mzip_path\u001b[49m\u001b[43m,\u001b[49m\u001b[43m \u001b[49m\u001b[43mnb_path\u001b[49m\u001b[43m,\u001b[49m\u001b[43m \u001b[49m\u001b[38;5;28;43mself\u001b[39;49m\u001b[38;5;241;43m.\u001b[39;49m\u001b[43m_path\u001b[49m\u001b[43m)\u001b[49m\n\u001b[0;32m    416\u001b[0m     \u001b[38;5;28mprint\u001b[39m(\n\u001b[0;32m    417\u001b[0m         \u001b[38;5;124m\"\u001b[39m\u001b[38;5;124mYour submission received the following results when run against \u001b[39m\u001b[38;5;124m\"\u001b[39m \u001b[38;5;241m+\u001b[39m \\\n\u001b[0;32m    418\u001b[0m         \u001b[38;5;124m\"\u001b[39m\u001b[38;5;124mavailable test cases:\u001b[39m\u001b[38;5;130;01m\\n\u001b[39;00m\u001b[38;5;130;01m\\n\u001b[39;00m\u001b[38;5;124m\"\u001b[39m \u001b[38;5;241m+\u001b[39m indent(results\u001b[38;5;241m.\u001b[39msummary(), \u001b[38;5;124m\"\u001b[39m\u001b[38;5;124m    \u001b[39m\u001b[38;5;124m\"\u001b[39m))\n\u001b[0;32m    420\u001b[0m \u001b[38;5;28;01mif\u001b[39;00m display_link:\n\u001b[0;32m    421\u001b[0m     \u001b[38;5;66;03m# create and display output HTML\u001b[39;00m\n",
      "File \u001b[1;32m~\\anaconda3\\lib\\site-packages\\otter\\check\\utils.py:86\u001b[0m, in \u001b[0;36mgrade_zip_file\u001b[1;34m(zip_path, nb_arcname, tests_dir)\u001b[0m\n\u001b[0;32m     83\u001b[0m     \u001b[38;5;28;01mreturn\u001b[39;00m results\n\u001b[0;32m     85\u001b[0m \u001b[38;5;28;01mfinally\u001b[39;00m:\n\u001b[1;32m---> 86\u001b[0m     \u001b[43mos\u001b[49m\u001b[38;5;241;43m.\u001b[39;49m\u001b[43mremove\u001b[49m\u001b[43m(\u001b[49m\u001b[43mresults_path\u001b[49m\u001b[43m)\u001b[49m\n",
      "\u001b[1;31mPermissionError\u001b[0m: [WinError 32] The process cannot access the file because it is being used by another process: 'C:\\\\Users\\\\popur\\\\AppData\\\\Local\\\\Temp\\\\tmpnbjjoox5.pkl'"
     ]
    }
   ],
   "source": [
    "# Save your notebook first, then run this cell to export your submission.\n",
    "grader.export(pdf=False, run_tests=True)"
   ]
  },
  {
   "cell_type": "markdown",
   "id": "4b3d53d9",
   "metadata": {},
   "source": [
    " "
   ]
  }
 ],
 "metadata": {
  "kernelspec": {
   "display_name": "Python 3 (ipykernel)",
   "language": "python",
   "name": "python3"
  },
  "language_info": {
   "codemirror_mode": {
    "name": "ipython",
    "version": 3
   },
   "file_extension": ".py",
   "mimetype": "text/x-python",
   "name": "python",
   "nbconvert_exporter": "python",
   "pygments_lexer": "ipython3",
   "version": "3.9.12"
  },
  "otter": {
   "OK_FORMAT": true,
   "tests": {
    "q1": {
     "name": "q1",
     "points": 5,
     "suites": [
      {
       "cases": [
        {
         "code": ">>> p6_test.check(\"q1\", neighborhood_groups)\nTrue",
         "hidden": false,
         "locked": false
        }
       ],
       "scored": true,
       "setup": "",
       "teardown": "",
       "type": "doctest"
      }
     ]
    },
    "q10": {
     "name": "q10",
     "points": 5,
     "suites": [
      {
       "cases": [
        {
         "code": ">>> p6_test.check(\"q10\", pvt_room_little_neck)\nTrue",
         "hidden": false,
         "locked": false
        }
       ],
       "scored": true,
       "setup": "",
       "teardown": "",
       "type": "doctest"
      }
     ]
    },
    "q11": {
     "name": "q11",
     "points": 5,
     "suites": [
      {
       "cases": [
        {
         "code": ">>> p6_test.check(\"q11\", home_pvt_room_astoria_diff)\nTrue",
         "hidden": false,
         "locked": false
        }
       ],
       "scored": true,
       "setup": "",
       "teardown": "",
       "type": "doctest"
      }
     ]
    },
    "q12": {
     "name": "q12",
     "points": 5,
     "suites": [
      {
       "cases": [
        {
         "code": ">>> p6_test.check(\"q12\", min_price_nyu)\nTrue",
         "hidden": false,
         "locked": false
        }
       ],
       "scored": true,
       "setup": "",
       "teardown": "",
       "type": "doctest"
      }
     ]
    },
    "q13": {
     "name": "q13",
     "points": 5,
     "suites": [
      {
       "cases": [
        {
         "code": ">>> p6_test.check(\"q13\", median_price_columbia)\nTrue",
         "hidden": false,
         "locked": false
        }
       ],
       "scored": true,
       "setup": "",
       "teardown": "",
       "type": "doctest"
      }
     ]
    },
    "q14": {
     "name": "q14",
     "points": 5,
     "suites": [
      {
       "cases": [
        {
         "code": ">>> p6_test.check(\"q14\", pct_price_over_hundred)\nTrue",
         "hidden": false,
         "locked": false
        }
       ],
       "scored": true,
       "setup": "",
       "teardown": "",
       "type": "doctest"
      }
     ]
    },
    "q15": {
     "name": "q15",
     "points": 5,
     "suites": [
      {
       "cases": [
        {
         "code": ">>> p6_test.check(\"q15\", bushwick_avg_ratio)\nTrue",
         "hidden": false,
         "locked": false
        }
       ],
       "scored": true,
       "setup": "",
       "teardown": "",
       "type": "doctest"
      }
     ]
    },
    "q16": {
     "name": "q16",
     "points": 5,
     "suites": [
      {
       "cases": [
        {
         "code": ">>> p6_test.check(\"q16\", manhattan_beach_avg_ratio)\nTrue",
         "hidden": false,
         "locked": false
        }
       ],
       "scored": true,
       "setup": "",
       "teardown": "",
       "type": "doctest"
      }
     ]
    },
    "q17": {
     "name": "q17",
     "points": 5,
     "suites": [
      {
       "cases": [
        {
         "code": ">>> p6_test.check(\"q17\", max_nbhd_staten_island)\nTrue",
         "hidden": false,
         "locked": false
        }
       ],
       "scored": true,
       "setup": "",
       "teardown": "",
       "type": "doctest"
      }
     ]
    },
    "q18": {
     "name": "q18",
     "points": 5,
     "suites": [
      {
       "cases": [
        {
         "code": ">>> p6_test.check(\"q18\", downtown_and_spacious)\nTrue",
         "hidden": false,
         "locked": false
        }
       ],
       "scored": true,
       "setup": "",
       "teardown": "",
       "type": "doctest"
      }
     ]
    },
    "q19": {
     "name": "q19",
     "points": 5,
     "suites": [
      {
       "cases": [
        {
         "code": ">>> p6_test.check(\"q19\", university_and_studio)\nTrue",
         "hidden": false,
         "locked": false
        }
       ],
       "scored": true,
       "setup": "",
       "teardown": "",
       "type": "doctest"
      }
     ]
    },
    "q2": {
     "name": "q2",
     "points": 5,
     "suites": [
      {
       "cases": [
        {
         "code": ">>> p6_test.check(\"q2\", avg_price)\nTrue",
         "hidden": false,
         "locked": false
        }
       ],
       "scored": true,
       "setup": "",
       "teardown": "",
       "type": "doctest"
      }
     ]
    },
    "q20": {
     "name": "q20",
     "points": 5,
     "suites": [
      {
       "cases": [
        {
         "code": ">>> p6_test.check(\"q20\", min_cost_trip)\nTrue",
         "hidden": false,
         "locked": false
        }
       ],
       "scored": true,
       "setup": "",
       "teardown": "",
       "type": "doctest"
      }
     ]
    },
    "q3": {
     "name": "q3",
     "points": 5,
     "suites": [
      {
       "cases": [
        {
         "code": ">>> p6_test.check(\"q3\", count_soho)\nTrue",
         "hidden": false,
         "locked": false
        }
       ],
       "scored": true,
       "setup": "",
       "teardown": "",
       "type": "doctest"
      }
     ]
    },
    "q4": {
     "name": "q4",
     "points": 5,
     "suites": [
      {
       "cases": [
        {
         "code": ">>> p6_test.check(\"q4\", rooms_contain_cbg)\nTrue",
         "hidden": false,
         "locked": false
        }
       ],
       "scored": true,
       "setup": "",
       "teardown": "",
       "type": "doctest"
      }
     ]
    },
    "q5": {
     "name": "q5",
     "points": 5,
     "suites": [
      {
       "cases": [
        {
         "code": ">>> p6_test.check(\"q5\", rooms_contain_cinema_film)\nTrue",
         "hidden": false,
         "locked": false
        }
       ],
       "scored": true,
       "setup": "",
       "teardown": "",
       "type": "doctest"
      }
     ]
    },
    "q6": {
     "name": "q6",
     "points": 5,
     "suites": [
      {
       "cases": [
        {
         "code": ">>> p6_test.check(\"q6\", funnest_room)\nTrue",
         "hidden": false,
         "locked": false
        }
       ],
       "scored": true,
       "setup": "",
       "teardown": "",
       "type": "doctest"
      }
     ]
    },
    "q7": {
     "name": "q7",
     "points": 5,
     "suites": [
      {
       "cases": [
        {
         "code": ">>> p6_test.check(\"q7\", no_cost_rooms)\nTrue",
         "hidden": false,
         "locked": false
        }
       ],
       "scored": true,
       "setup": "",
       "teardown": "",
       "type": "doctest"
      }
     ]
    },
    "q8": {
     "name": "q8",
     "points": 5,
     "suites": [
      {
       "cases": [
        {
         "code": ">>> p6_test.check(\"q8\", pricey_neighborhoods)\nTrue",
         "hidden": false,
         "locked": false
        }
       ],
       "scored": true,
       "setup": "",
       "teardown": "",
       "type": "doctest"
      }
     ]
    },
    "q9": {
     "name": "q9",
     "points": 5,
     "suites": [
      {
       "cases": [
        {
         "code": ">>> p6_test.check(\"q9\", last_review_before_2015)\nTrue",
         "hidden": false,
         "locked": false
        }
       ],
       "scored": true,
       "setup": "",
       "teardown": "",
       "type": "doctest"
      }
     ]
    }
   }
  }
 },
 "nbformat": 4,
 "nbformat_minor": 5
}
